{
 "cells": [
  {
   "cell_type": "code",
   "execution_count": 1,
   "metadata": {},
   "outputs": [],
   "source": [
    "import pandas as pd\n",
    "import os\n",
    "import matplotlib.pyplot as plt\n",
    "import numpy as np\n",
    "import datetime\n",
    "from sklearn.model_selection import TimeSeriesSplit\n",
    "from sklearn.metrics import mean_squared_error\n",
    "from pmdarima import auto_arima\n",
    "from netCDF4 import Dataset\n",
    "from mpl_toolkits.basemap import Basemap\n",
    "import xarray as xr"
   ]
  },
  {
   "cell_type": "code",
   "execution_count": 7,
   "metadata": {},
   "outputs": [
    {
     "data": {
      "text/html": [
       "<div>\n",
       "<style scoped>\n",
       "    .dataframe tbody tr th:only-of-type {\n",
       "        vertical-align: middle;\n",
       "    }\n",
       "\n",
       "    .dataframe tbody tr th {\n",
       "        vertical-align: top;\n",
       "    }\n",
       "\n",
       "    .dataframe thead th {\n",
       "        text-align: right;\n",
       "    }\n",
       "</style>\n",
       "<table border=\"1\" class=\"dataframe\">\n",
       "  <thead>\n",
       "    <tr style=\"text-align: right;\">\n",
       "      <th></th>\n",
       "      <th>date</th>\n",
       "      <th>days</th>\n",
       "      <th>Maize - Retail</th>\n",
       "      <th>Rice (imported) - Retail</th>\n",
       "      <th>Sorghum - Retail</th>\n",
       "      <th>Millet - Retail</th>\n",
       "      <th>Beans (niebe) - Retail</th>\n",
       "    </tr>\n",
       "  </thead>\n",
       "  <tbody>\n",
       "    <tr>\n",
       "      <th>0</th>\n",
       "      <td>1990-01-01</td>\n",
       "      <td>7305.0</td>\n",
       "      <td>58.25</td>\n",
       "      <td>201.666667</td>\n",
       "      <td>57.750000</td>\n",
       "      <td>61.00</td>\n",
       "      <td>NaN</td>\n",
       "    </tr>\n",
       "    <tr>\n",
       "      <th>1</th>\n",
       "      <td>1990-02-01</td>\n",
       "      <td>7336.0</td>\n",
       "      <td>58.25</td>\n",
       "      <td>201.666667</td>\n",
       "      <td>54.250000</td>\n",
       "      <td>63.40</td>\n",
       "      <td>NaN</td>\n",
       "    </tr>\n",
       "    <tr>\n",
       "      <th>2</th>\n",
       "      <td>1990-03-01</td>\n",
       "      <td>7364.0</td>\n",
       "      <td>58.25</td>\n",
       "      <td>201.666667</td>\n",
       "      <td>54.750000</td>\n",
       "      <td>65.20</td>\n",
       "      <td>NaN</td>\n",
       "    </tr>\n",
       "    <tr>\n",
       "      <th>3</th>\n",
       "      <td>1990-04-01</td>\n",
       "      <td>7395.0</td>\n",
       "      <td>58.25</td>\n",
       "      <td>202.333333</td>\n",
       "      <td>55.500000</td>\n",
       "      <td>69.60</td>\n",
       "      <td>NaN</td>\n",
       "    </tr>\n",
       "    <tr>\n",
       "      <th>4</th>\n",
       "      <td>1990-05-01</td>\n",
       "      <td>7425.0</td>\n",
       "      <td>58.25</td>\n",
       "      <td>202.333333</td>\n",
       "      <td>49.666667</td>\n",
       "      <td>63.25</td>\n",
       "      <td>NaN</td>\n",
       "    </tr>\n",
       "  </tbody>\n",
       "</table>\n",
       "</div>"
      ],
      "text/plain": [
       "        date    days  Maize - Retail  Rice (imported) - Retail  \\\n",
       "0 1990-01-01  7305.0           58.25                201.666667   \n",
       "1 1990-02-01  7336.0           58.25                201.666667   \n",
       "2 1990-03-01  7364.0           58.25                201.666667   \n",
       "3 1990-04-01  7395.0           58.25                202.333333   \n",
       "4 1990-05-01  7425.0           58.25                202.333333   \n",
       "\n",
       "   Sorghum - Retail  Millet - Retail  Beans (niebe) - Retail  \n",
       "0         57.750000            61.00                     NaN  \n",
       "1         54.250000            63.40                     NaN  \n",
       "2         54.750000            65.20                     NaN  \n",
       "3         55.500000            69.60                     NaN  \n",
       "4         49.666667            63.25                     NaN  "
      ]
     },
     "execution_count": 7,
     "metadata": {},
     "output_type": "execute_result"
    }
   ],
   "source": [
    "NE_prices = pd.read_csv('E:\\\\OtherCodeProjects\\\\Springboard Capstone Projects\\\\Springboard-Capstone-2-Data\\\\Niger_food_prices.csv')\n",
    "NE_prices['date'] = pd.to_datetime(NE_prices['date'])\n",
    "NE_prices.head()"
   ]
  },
  {
   "cell_type": "code",
   "execution_count": 6,
   "metadata": {},
   "outputs": [],
   "source": [
    "#train = NE_prices[NE_prices['date'].dt.strftime('%Y') < '2018']\n",
    "#test = NE_prices[NE_prices['date'].dt.strftime('%Y') >= '2018']"
   ]
  },
  {
   "cell_type": "code",
   "execution_count": 8,
   "metadata": {},
   "outputs": [],
   "source": [
    "precip_data = Dataset('E:\\\\OtherCodeProjects\\\\Springboard Capstone Projects\\\\Springboard-Capstone-2-Data\\\\niger_rainfall.nc')"
   ]
  },
  {
   "cell_type": "code",
   "execution_count": 10,
   "metadata": {},
   "outputs": [
    {
     "data": {
      "text/plain": [
       "<class 'netCDF4._netCDF4.Dataset'>\n",
       "root group (NETCDF4 data model, file format HDF5):\n",
       "    Conventions: CF-1.4\n",
       "    title: CRU TS4.06 Precipitation\n",
       "    institution: Data held at British Atmospheric Data Centre, RAL, UK.\n",
       "    source: Run ID = 2204291347. Data generated from:pre.2204291209.dtb\n",
       "    history: Fri 29 Apr 16:08:23 BST 2022 : User f098 : Program makegridsauto.for called by update.for\n",
       "    references: Information on the data is available at http://badc.nerc.ac.uk/data/cru/\n",
       "    comment: Access to these data is available to any registered CEDA user.\n",
       "    contact: support@ceda.ac.uk\n",
       "    dimensions(sizes): time(373), lon(32), lat(15)\n",
       "    variables(dimensions): float32 lon(lon), float32 lat(lat), float32 time(time), float32 pre(time, lat, lon), int32 stn(time, lat, lon)\n",
       "    groups: "
      ]
     },
     "execution_count": 10,
     "metadata": {},
     "output_type": "execute_result"
    }
   ],
   "source": [
    "precip_data"
   ]
  },
  {
   "cell_type": "code",
   "execution_count": 9,
   "metadata": {},
   "outputs": [
    {
     "data": {
      "text/plain": [
       "dict_keys(['lon', 'lat', 'time', 'pre', 'stn'])"
      ]
     },
     "execution_count": 9,
     "metadata": {},
     "output_type": "execute_result"
    }
   ],
   "source": [
    "precip_data.variables.keys()"
   ]
  },
  {
   "cell_type": "code",
   "execution_count": 12,
   "metadata": {},
   "outputs": [
    {
     "name": "stdout",
     "output_type": "stream",
     "text": [
      "('time', <class 'netCDF4._netCDF4.Dimension'> (unlimited): name = 'time', size = 373)\n",
      "('lon', <class 'netCDF4._netCDF4.Dimension'>: name = 'lon', size = 32)\n",
      "('lat', <class 'netCDF4._netCDF4.Dimension'>: name = 'lat', size = 15)\n"
     ]
    }
   ],
   "source": [
    "for d in precip_data.dimensions.items():\n",
    "    print(d)"
   ]
  },
  {
   "cell_type": "code",
   "execution_count": 11,
   "metadata": {},
   "outputs": [
    {
     "name": "stdout",
     "output_type": "stream",
     "text": [
      "<class 'netCDF4._netCDF4.Variable'>\n",
      "float32 pre(time, lat, lon)\n",
      "    _FillValue: 9.96921e+36\n",
      "    long_name: precipitation\n",
      "    units: mm/month\n",
      "    correlation_decay_distance: 450.0\n",
      "    missing_value: 9.96921e+36\n",
      "unlimited dimensions: time\n",
      "current shape = (373, 15, 32)\n",
      "filling on\n"
     ]
    }
   ],
   "source": [
    "precip = precip_data.variables['pre']\n",
    "print(precip)"
   ]
  },
  {
   "cell_type": "code",
   "execution_count": 13,
   "metadata": {},
   "outputs": [],
   "source": [
    "rain_avg = np.mean(precip[:,:,:], axis=0)"
   ]
  },
  {
   "cell_type": "code",
   "execution_count": 15,
   "metadata": {},
   "outputs": [
    {
     "data": {
      "image/png": "[encoded data removed]",
      "text/plain": [
       "<Figure size 640x480 with 2 Axes>"
      ]
     },
     "metadata": {},
     "output_type": "display_data"
    }
   ],
   "source": [
    "plt.figure()\n",
    "map = Basemap(projection='cyl', resolution='c', llcrnrlat=0, urcrnrlat=25, llcrnrlon=-10, urcrnrlon=20)\n",
    "map.drawcoastlines(color='blue')\n",
    "map.drawcountries()\n",
    "lons, lats = np.meshgrid(precip_data.variables['lon'][:], precip_data.variables['lat'][:])\n",
    "x, y = map(lons, lats)\n",
    "precip_plot = map.contourf(x, y, rain_avg, cmap=plt.cm.RdBu)\n",
    "cb = map.colorbar(precip_plot, \"bottom\", size='5%', pad='2%', extend = 'both')\n",
    "plt.show()"
   ]
  },
  {
   "cell_type": "code",
   "execution_count": 16,
   "metadata": {},
   "outputs": [
    {
     "data": {
      "text/html": [
       "<div>\n",
       "<style scoped>\n",
       "    .dataframe tbody tr th:only-of-type {\n",
       "        vertical-align: middle;\n",
       "    }\n",
       "\n",
       "    .dataframe tbody tr th {\n",
       "        vertical-align: top;\n",
       "    }\n",
       "\n",
       "    .dataframe thead th {\n",
       "        text-align: right;\n",
       "    }\n",
       "</style>\n",
       "<table border=\"1\" class=\"dataframe\">\n",
       "  <thead>\n",
       "    <tr style=\"text-align: right;\">\n",
       "      <th></th>\n",
       "      <th>lon</th>\n",
       "      <th>lat</th>\n",
       "      <th>time</th>\n",
       "      <th>pre</th>\n",
       "      <th>stn</th>\n",
       "    </tr>\n",
       "  </thead>\n",
       "  <tbody>\n",
       "    <tr>\n",
       "      <th>0</th>\n",
       "      <td>0.25</td>\n",
       "      <td>12.25</td>\n",
       "      <td>1989-12-16</td>\n",
       "      <td>1.900000</td>\n",
       "      <td>8.0</td>\n",
       "    </tr>\n",
       "    <tr>\n",
       "      <th>1</th>\n",
       "      <td>0.25</td>\n",
       "      <td>12.25</td>\n",
       "      <td>1990-01-16</td>\n",
       "      <td>0.000000</td>\n",
       "      <td>8.0</td>\n",
       "    </tr>\n",
       "    <tr>\n",
       "      <th>2</th>\n",
       "      <td>0.25</td>\n",
       "      <td>12.25</td>\n",
       "      <td>1990-02-15</td>\n",
       "      <td>0.000000</td>\n",
       "      <td>8.0</td>\n",
       "    </tr>\n",
       "    <tr>\n",
       "      <th>3</th>\n",
       "      <td>0.25</td>\n",
       "      <td>12.25</td>\n",
       "      <td>1990-03-16</td>\n",
       "      <td>0.000000</td>\n",
       "      <td>8.0</td>\n",
       "    </tr>\n",
       "    <tr>\n",
       "      <th>4</th>\n",
       "      <td>0.25</td>\n",
       "      <td>12.25</td>\n",
       "      <td>1990-04-16</td>\n",
       "      <td>17.700001</td>\n",
       "      <td>8.0</td>\n",
       "    </tr>\n",
       "  </tbody>\n",
       "</table>\n",
       "</div>"
      ],
      "text/plain": [
       "    lon    lat       time        pre  stn\n",
       "0  0.25  12.25 1989-12-16   1.900000  8.0\n",
       "1  0.25  12.25 1990-01-16   0.000000  8.0\n",
       "2  0.25  12.25 1990-02-15   0.000000  8.0\n",
       "3  0.25  12.25 1990-03-16   0.000000  8.0\n",
       "4  0.25  12.25 1990-04-16  17.700001  8.0"
      ]
     },
     "execution_count": 16,
     "metadata": {},
     "output_type": "execute_result"
    }
   ],
   "source": [
    "ds = xr.open_dataset('E:\\\\OtherCodeProjects\\\\Springboard Capstone Projects\\\\Springboard-Capstone-2-Data\\\\niger_rainfall.nc')\n",
    "rain_df = ds.to_dataframe()\n",
    "rain_df = rain_df.reset_index()\n",
    "rain_df.head()"
   ]
  },
  {
   "cell_type": "code",
   "execution_count": 17,
   "metadata": {},
   "outputs": [
    {
     "name": "stdout",
     "output_type": "stream",
     "text": [
      "<class 'pandas.core.frame.DataFrame'>\n",
      "RangeIndex: 179040 entries, 0 to 179039\n",
      "Data columns (total 5 columns):\n",
      " #   Column  Non-Null Count   Dtype         \n",
      "---  ------  --------------   -----         \n",
      " 0   lon     179040 non-null  float64       \n",
      " 1   lat     179040 non-null  float64       \n",
      " 2   time    179040 non-null  datetime64[ns]\n",
      " 3   pre     179040 non-null  float32       \n",
      " 4   stn     179040 non-null  float64       \n",
      "dtypes: datetime64[ns](1), float32(1), float64(3)\n",
      "memory usage: 6.1 MB\n"
     ]
    }
   ],
   "source": [
    "rain_df.info()"
   ]
  },
  {
   "cell_type": "code",
   "execution_count": 18,
   "metadata": {},
   "outputs": [
    {
     "data": {
      "text/html": [
       "<div>\n",
       "<style scoped>\n",
       "    .dataframe tbody tr th:only-of-type {\n",
       "        vertical-align: middle;\n",
       "    }\n",
       "\n",
       "    .dataframe tbody tr th {\n",
       "        vertical-align: top;\n",
       "    }\n",
       "\n",
       "    .dataframe thead th {\n",
       "        text-align: right;\n",
       "    }\n",
       "</style>\n",
       "<table border=\"1\" class=\"dataframe\">\n",
       "  <thead>\n",
       "    <tr style=\"text-align: right;\">\n",
       "      <th></th>\n",
       "      <th>lon</th>\n",
       "      <th>lat</th>\n",
       "      <th>pre</th>\n",
       "      <th>stn</th>\n",
       "    </tr>\n",
       "  </thead>\n",
       "  <tbody>\n",
       "    <tr>\n",
       "      <th>count</th>\n",
       "      <td>179040.000000</td>\n",
       "      <td>179040.000000</td>\n",
       "      <td>179040.000000</td>\n",
       "      <td>179040.000000</td>\n",
       "    </tr>\n",
       "    <tr>\n",
       "      <th>mean</th>\n",
       "      <td>8.000000</td>\n",
       "      <td>15.750000</td>\n",
       "      <td>23.974272</td>\n",
       "      <td>3.947286</td>\n",
       "    </tr>\n",
       "    <tr>\n",
       "      <th>std</th>\n",
       "      <td>4.616559</td>\n",
       "      <td>2.160253</td>\n",
       "      <td>47.822010</td>\n",
       "      <td>3.289880</td>\n",
       "    </tr>\n",
       "    <tr>\n",
       "      <th>min</th>\n",
       "      <td>0.250000</td>\n",
       "      <td>12.250000</td>\n",
       "      <td>0.000000</td>\n",
       "      <td>0.000000</td>\n",
       "    </tr>\n",
       "    <tr>\n",
       "      <th>25%</th>\n",
       "      <td>4.125000</td>\n",
       "      <td>13.750000</td>\n",
       "      <td>0.000000</td>\n",
       "      <td>0.000000</td>\n",
       "    </tr>\n",
       "    <tr>\n",
       "      <th>50%</th>\n",
       "      <td>8.000000</td>\n",
       "      <td>15.750000</td>\n",
       "      <td>0.800000</td>\n",
       "      <td>4.000000</td>\n",
       "    </tr>\n",
       "    <tr>\n",
       "      <th>75%</th>\n",
       "      <td>11.875000</td>\n",
       "      <td>17.750000</td>\n",
       "      <td>23.200001</td>\n",
       "      <td>8.000000</td>\n",
       "    </tr>\n",
       "    <tr>\n",
       "      <th>max</th>\n",
       "      <td>15.750000</td>\n",
       "      <td>19.250000</td>\n",
       "      <td>390.600006</td>\n",
       "      <td>8.000000</td>\n",
       "    </tr>\n",
       "  </tbody>\n",
       "</table>\n",
       "</div>"
      ],
      "text/plain": [
       "                 lon            lat            pre            stn\n",
       "count  179040.000000  179040.000000  179040.000000  179040.000000\n",
       "mean        8.000000      15.750000      23.974272       3.947286\n",
       "std         4.616559       2.160253      47.822010       3.289880\n",
       "min         0.250000      12.250000       0.000000       0.000000\n",
       "25%         4.125000      13.750000       0.000000       0.000000\n",
       "50%         8.000000      15.750000       0.800000       4.000000\n",
       "75%        11.875000      17.750000      23.200001       8.000000\n",
       "max        15.750000      19.250000     390.600006       8.000000"
      ]
     },
     "execution_count": 18,
     "metadata": {},
     "output_type": "execute_result"
    }
   ],
   "source": [
    "rain_df.describe()"
   ]
  }
 ],
 "metadata": {
  "kernelspec": {
   "display_name": "Springboard_Capstone_2",
   "language": "python",
   "name": "python3"
  },
  "language_info": {
   "codemirror_mode": {
    "name": "ipython",
    "version": 3
   },
   "file_extension": ".py",
   "mimetype": "text/x-python",
   "name": "python",
   "nbconvert_exporter": "python",
   "pygments_lexer": "ipython3",
   "version": "3.10.8"
  },
  "orig_nbformat": 4
 },
 "nbformat": 4,
 "nbformat_minor": 2
}
