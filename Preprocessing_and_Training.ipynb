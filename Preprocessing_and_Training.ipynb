{
 "cells": [
  {
   "cell_type": "code",
   "execution_count": 1,
   "metadata": {},
   "outputs": [],
   "source": [
    "import pandas as pd\n",
    "import os\n",
    "import matplotlib.pyplot as plt\n",
    "import numpy as np\n",
    "import datetime\n",
    "from sklearn.linear_model import LinearRegression"
   ]
  },
  {
   "cell_type": "code",
   "execution_count": 2,
   "metadata": {},
   "outputs": [
    {
     "data": {
      "text/html": [
       "<div>\n",
       "<style scoped>\n",
       "    .dataframe tbody tr th:only-of-type {\n",
       "        vertical-align: middle;\n",
       "    }\n",
       "\n",
       "    .dataframe tbody tr th {\n",
       "        vertical-align: top;\n",
       "    }\n",
       "\n",
       "    .dataframe thead th {\n",
       "        text-align: right;\n",
       "    }\n",
       "</style>\n",
       "<table border=\"1\" class=\"dataframe\">\n",
       "  <thead>\n",
       "    <tr style=\"text-align: right;\">\n",
       "      <th></th>\n",
       "      <th>date</th>\n",
       "      <th>days</th>\n",
       "      <th>Maize - Retail</th>\n",
       "      <th>Rice (imported) - Retail</th>\n",
       "      <th>Sorghum - Retail</th>\n",
       "      <th>Millet - Retail</th>\n",
       "      <th>Beans (niebe) - Retail</th>\n",
       "    </tr>\n",
       "  </thead>\n",
       "  <tbody>\n",
       "    <tr>\n",
       "      <th>0</th>\n",
       "      <td>1990-01-01</td>\n",
       "      <td>7305.0</td>\n",
       "      <td>NaN</td>\n",
       "      <td>201.666667</td>\n",
       "      <td>57.750000</td>\n",
       "      <td>61.00</td>\n",
       "      <td>NaN</td>\n",
       "    </tr>\n",
       "    <tr>\n",
       "      <th>1</th>\n",
       "      <td>1990-02-01</td>\n",
       "      <td>7336.0</td>\n",
       "      <td>NaN</td>\n",
       "      <td>201.666667</td>\n",
       "      <td>54.250000</td>\n",
       "      <td>63.40</td>\n",
       "      <td>NaN</td>\n",
       "    </tr>\n",
       "    <tr>\n",
       "      <th>2</th>\n",
       "      <td>1990-03-01</td>\n",
       "      <td>7364.0</td>\n",
       "      <td>NaN</td>\n",
       "      <td>201.666667</td>\n",
       "      <td>54.750000</td>\n",
       "      <td>65.20</td>\n",
       "      <td>NaN</td>\n",
       "    </tr>\n",
       "    <tr>\n",
       "      <th>3</th>\n",
       "      <td>1990-04-01</td>\n",
       "      <td>7395.0</td>\n",
       "      <td>NaN</td>\n",
       "      <td>202.333333</td>\n",
       "      <td>55.500000</td>\n",
       "      <td>69.60</td>\n",
       "      <td>NaN</td>\n",
       "    </tr>\n",
       "    <tr>\n",
       "      <th>4</th>\n",
       "      <td>1990-05-01</td>\n",
       "      <td>7425.0</td>\n",
       "      <td>NaN</td>\n",
       "      <td>202.333333</td>\n",
       "      <td>49.666667</td>\n",
       "      <td>63.25</td>\n",
       "      <td>NaN</td>\n",
       "    </tr>\n",
       "  </tbody>\n",
       "</table>\n",
       "</div>"
      ],
      "text/plain": [
       "         date    days  Maize - Retail  Rice (imported) - Retail  \\\n",
       "0  1990-01-01  7305.0             NaN                201.666667   \n",
       "1  1990-02-01  7336.0             NaN                201.666667   \n",
       "2  1990-03-01  7364.0             NaN                201.666667   \n",
       "3  1990-04-01  7395.0             NaN                202.333333   \n",
       "4  1990-05-01  7425.0             NaN                202.333333   \n",
       "\n",
       "   Sorghum - Retail  Millet - Retail  Beans (niebe) - Retail  \n",
       "0         57.750000            61.00                     NaN  \n",
       "1         54.250000            63.40                     NaN  \n",
       "2         54.750000            65.20                     NaN  \n",
       "3         55.500000            69.60                     NaN  \n",
       "4         49.666667            63.25                     NaN  "
      ]
     },
     "execution_count": 2,
     "metadata": {},
     "output_type": "execute_result"
    }
   ],
   "source": [
    "NE_prices_avg = pd.read_csv('E:\\\\OtherCodeProjects\\\\Springboard Capstone Projects\\\\Springboard-Capstone-2-Data\\\\Niger_food_prices.csv')\n",
    "NE_prices_avg.head()"
   ]
  },
  {
   "cell_type": "code",
   "execution_count": 3,
   "metadata": {},
   "outputs": [
    {
     "name": "stdout",
     "output_type": "stream",
     "text": [
      "<class 'pandas.core.frame.DataFrame'>\n",
      "RangeIndex: 379 entries, 0 to 378\n",
      "Data columns (total 7 columns):\n",
      " #   Column                    Non-Null Count  Dtype  \n",
      "---  ------                    --------------  -----  \n",
      " 0   date                      379 non-null    object \n",
      " 1   days                      379 non-null    float64\n",
      " 2   Maize - Retail            329 non-null    float64\n",
      " 3   Rice (imported) - Retail  379 non-null    float64\n",
      " 4   Sorghum - Retail          379 non-null    float64\n",
      " 5   Millet - Retail           379 non-null    float64\n",
      " 6   Beans (niebe) - Retail    210 non-null    float64\n",
      "dtypes: float64(6), object(1)\n",
      "memory usage: 20.9+ KB\n"
     ]
    }
   ],
   "source": [
    "NE_prices_avg.info()"
   ]
  },
  {
   "cell_type": "code",
   "execution_count": 4,
   "metadata": {},
   "outputs": [
    {
     "data": {
      "text/plain": [
       "dtype('<M8[ns]')"
      ]
     },
     "execution_count": 4,
     "metadata": {},
     "output_type": "execute_result"
    }
   ],
   "source": [
    "NE_prices_avg['date'] = pd.to_datetime(NE_prices_avg['date'])\n",
    "NE_prices_avg['date'].dtype"
   ]
  },
  {
   "cell_type": "code",
   "execution_count": 5,
   "metadata": {},
   "outputs": [
    {
     "name": "stderr",
     "output_type": "stream",
     "text": [
      "C:\\Users\\William\\AppData\\Local\\Temp\\ipykernel_20936\\2483228287.py:1: FutureWarning: Treating datetime data as categorical rather than numeric in `.describe` is deprecated and will be removed in a future version of pandas. Specify `datetime_is_numeric=True` to silence this warning and adopt the future behavior now.\n",
      "  NE_prices_avg.describe(include='all')\n"
     ]
    },
    {
     "data": {
      "text/html": [
       "<div>\n",
       "<style scoped>\n",
       "    .dataframe tbody tr th:only-of-type {\n",
       "        vertical-align: middle;\n",
       "    }\n",
       "\n",
       "    .dataframe tbody tr th {\n",
       "        vertical-align: top;\n",
       "    }\n",
       "\n",
       "    .dataframe thead th {\n",
       "        text-align: right;\n",
       "    }\n",
       "</style>\n",
       "<table border=\"1\" class=\"dataframe\">\n",
       "  <thead>\n",
       "    <tr style=\"text-align: right;\">\n",
       "      <th></th>\n",
       "      <th>date</th>\n",
       "      <th>days</th>\n",
       "      <th>Maize - Retail</th>\n",
       "      <th>Rice (imported) - Retail</th>\n",
       "      <th>Sorghum - Retail</th>\n",
       "      <th>Millet - Retail</th>\n",
       "      <th>Beans (niebe) - Retail</th>\n",
       "    </tr>\n",
       "  </thead>\n",
       "  <tbody>\n",
       "    <tr>\n",
       "      <th>count</th>\n",
       "      <td>379</td>\n",
       "      <td>379.000000</td>\n",
       "      <td>329.000000</td>\n",
       "      <td>379.000000</td>\n",
       "      <td>379.000000</td>\n",
       "      <td>379.000000</td>\n",
       "      <td>210.000000</td>\n",
       "    </tr>\n",
       "    <tr>\n",
       "      <th>unique</th>\n",
       "      <td>379</td>\n",
       "      <td>NaN</td>\n",
       "      <td>NaN</td>\n",
       "      <td>NaN</td>\n",
       "      <td>NaN</td>\n",
       "      <td>NaN</td>\n",
       "      <td>NaN</td>\n",
       "    </tr>\n",
       "    <tr>\n",
       "      <th>top</th>\n",
       "      <td>1990-01-01 00:00:00</td>\n",
       "      <td>NaN</td>\n",
       "      <td>NaN</td>\n",
       "      <td>NaN</td>\n",
       "      <td>NaN</td>\n",
       "      <td>NaN</td>\n",
       "      <td>NaN</td>\n",
       "    </tr>\n",
       "    <tr>\n",
       "      <th>freq</th>\n",
       "      <td>1</td>\n",
       "      <td>NaN</td>\n",
       "      <td>NaN</td>\n",
       "      <td>NaN</td>\n",
       "      <td>NaN</td>\n",
       "      <td>NaN</td>\n",
       "      <td>NaN</td>\n",
       "    </tr>\n",
       "    <tr>\n",
       "      <th>first</th>\n",
       "      <td>1990-01-01 00:00:00</td>\n",
       "      <td>NaN</td>\n",
       "      <td>NaN</td>\n",
       "      <td>NaN</td>\n",
       "      <td>NaN</td>\n",
       "      <td>NaN</td>\n",
       "      <td>NaN</td>\n",
       "    </tr>\n",
       "    <tr>\n",
       "      <th>last</th>\n",
       "      <td>2021-07-01 00:00:00</td>\n",
       "      <td>NaN</td>\n",
       "      <td>NaN</td>\n",
       "      <td>NaN</td>\n",
       "      <td>NaN</td>\n",
       "      <td>NaN</td>\n",
       "      <td>NaN</td>\n",
       "    </tr>\n",
       "    <tr>\n",
       "      <th>mean</th>\n",
       "      <td>NaN</td>\n",
       "      <td>13056.860158</td>\n",
       "      <td>183.720155</td>\n",
       "      <td>358.604192</td>\n",
       "      <td>157.184086</td>\n",
       "      <td>164.053058</td>\n",
       "      <td>242.776203</td>\n",
       "    </tr>\n",
       "    <tr>\n",
       "      <th>std</th>\n",
       "      <td>NaN</td>\n",
       "      <td>3334.503386</td>\n",
       "      <td>50.463660</td>\n",
       "      <td>100.458881</td>\n",
       "      <td>62.116393</td>\n",
       "      <td>65.912217</td>\n",
       "      <td>95.826828</td>\n",
       "    </tr>\n",
       "    <tr>\n",
       "      <th>min</th>\n",
       "      <td>NaN</td>\n",
       "      <td>7305.000000</td>\n",
       "      <td>58.250000</td>\n",
       "      <td>175.000000</td>\n",
       "      <td>45.666667</td>\n",
       "      <td>51.600000</td>\n",
       "      <td>93.583333</td>\n",
       "    </tr>\n",
       "    <tr>\n",
       "      <th>25%</th>\n",
       "      <td>NaN</td>\n",
       "      <td>10181.000000</td>\n",
       "      <td>141.737500</td>\n",
       "      <td>294.083333</td>\n",
       "      <td>111.500000</td>\n",
       "      <td>105.832317</td>\n",
       "      <td>176.108599</td>\n",
       "    </tr>\n",
       "    <tr>\n",
       "      <th>50%</th>\n",
       "      <td>NaN</td>\n",
       "      <td>13057.000000</td>\n",
       "      <td>198.683898</td>\n",
       "      <td>326.000000</td>\n",
       "      <td>165.000000</td>\n",
       "      <td>171.466667</td>\n",
       "      <td>223.268167</td>\n",
       "    </tr>\n",
       "    <tr>\n",
       "      <th>75%</th>\n",
       "      <td>NaN</td>\n",
       "      <td>15933.500000</td>\n",
       "      <td>222.095833</td>\n",
       "      <td>464.655843</td>\n",
       "      <td>202.690702</td>\n",
       "      <td>211.033656</td>\n",
       "      <td>289.764808</td>\n",
       "    </tr>\n",
       "    <tr>\n",
       "      <th>max</th>\n",
       "      <td>NaN</td>\n",
       "      <td>18809.000000</td>\n",
       "      <td>294.081633</td>\n",
       "      <td>492.083931</td>\n",
       "      <td>301.750000</td>\n",
       "      <td>307.338595</td>\n",
       "      <td>589.781663</td>\n",
       "    </tr>\n",
       "  </tbody>\n",
       "</table>\n",
       "</div>"
      ],
      "text/plain": [
       "                       date          days  Maize - Retail  \\\n",
       "count                   379    379.000000      329.000000   \n",
       "unique                  379           NaN             NaN   \n",
       "top     1990-01-01 00:00:00           NaN             NaN   \n",
       "freq                      1           NaN             NaN   \n",
       "first   1990-01-01 00:00:00           NaN             NaN   \n",
       "last    2021-07-01 00:00:00           NaN             NaN   \n",
       "mean                    NaN  13056.860158      183.720155   \n",
       "std                     NaN   3334.503386       50.463660   \n",
       "min                     NaN   7305.000000       58.250000   \n",
       "25%                     NaN  10181.000000      141.737500   \n",
       "50%                     NaN  13057.000000      198.683898   \n",
       "75%                     NaN  15933.500000      222.095833   \n",
       "max                     NaN  18809.000000      294.081633   \n",
       "\n",
       "        Rice (imported) - Retail  Sorghum - Retail  Millet - Retail  \\\n",
       "count                 379.000000        379.000000       379.000000   \n",
       "unique                       NaN               NaN              NaN   \n",
       "top                          NaN               NaN              NaN   \n",
       "freq                         NaN               NaN              NaN   \n",
       "first                        NaN               NaN              NaN   \n",
       "last                         NaN               NaN              NaN   \n",
       "mean                  358.604192        157.184086       164.053058   \n",
       "std                   100.458881         62.116393        65.912217   \n",
       "min                   175.000000         45.666667        51.600000   \n",
       "25%                   294.083333        111.500000       105.832317   \n",
       "50%                   326.000000        165.000000       171.466667   \n",
       "75%                   464.655843        202.690702       211.033656   \n",
       "max                   492.083931        301.750000       307.338595   \n",
       "\n",
       "        Beans (niebe) - Retail  \n",
       "count               210.000000  \n",
       "unique                     NaN  \n",
       "top                        NaN  \n",
       "freq                       NaN  \n",
       "first                      NaN  \n",
       "last                       NaN  \n",
       "mean                242.776203  \n",
       "std                  95.826828  \n",
       "min                  93.583333  \n",
       "25%                 176.108599  \n",
       "50%                 223.268167  \n",
       "75%                 289.764808  \n",
       "max                 589.781663  "
      ]
     },
     "execution_count": 5,
     "metadata": {},
     "output_type": "execute_result"
    }
   ],
   "source": [
    "NE_prices_avg.describe(include='all')"
   ]
  },
  {
   "cell_type": "code",
   "execution_count": 6,
   "metadata": {},
   "outputs": [
    {
     "data": {
      "text/html": [
       "<div>\n",
       "<style scoped>\n",
       "    .dataframe tbody tr th:only-of-type {\n",
       "        vertical-align: middle;\n",
       "    }\n",
       "\n",
       "    .dataframe tbody tr th {\n",
       "        vertical-align: top;\n",
       "    }\n",
       "\n",
       "    .dataframe thead th {\n",
       "        text-align: right;\n",
       "    }\n",
       "</style>\n",
       "<table border=\"1\" class=\"dataframe\">\n",
       "  <thead>\n",
       "    <tr style=\"text-align: right;\">\n",
       "      <th></th>\n",
       "      <th>date</th>\n",
       "      <th>Maize - Retail</th>\n",
       "      <th>Rice (imported) - Retail</th>\n",
       "      <th>Sorghum - Retail</th>\n",
       "      <th>Millet - Retail</th>\n",
       "      <th>Beans (niebe) - Retail</th>\n",
       "    </tr>\n",
       "    <tr>\n",
       "      <th>days</th>\n",
       "      <th></th>\n",
       "      <th></th>\n",
       "      <th></th>\n",
       "      <th></th>\n",
       "      <th></th>\n",
       "      <th></th>\n",
       "    </tr>\n",
       "  </thead>\n",
       "  <tbody>\n",
       "    <tr>\n",
       "      <th>7305.0</th>\n",
       "      <td>1990-01-01</td>\n",
       "      <td>NaN</td>\n",
       "      <td>201.666667</td>\n",
       "      <td>57.750000</td>\n",
       "      <td>61.00</td>\n",
       "      <td>NaN</td>\n",
       "    </tr>\n",
       "    <tr>\n",
       "      <th>7336.0</th>\n",
       "      <td>1990-02-01</td>\n",
       "      <td>NaN</td>\n",
       "      <td>201.666667</td>\n",
       "      <td>54.250000</td>\n",
       "      <td>63.40</td>\n",
       "      <td>NaN</td>\n",
       "    </tr>\n",
       "    <tr>\n",
       "      <th>7364.0</th>\n",
       "      <td>1990-03-01</td>\n",
       "      <td>NaN</td>\n",
       "      <td>201.666667</td>\n",
       "      <td>54.750000</td>\n",
       "      <td>65.20</td>\n",
       "      <td>NaN</td>\n",
       "    </tr>\n",
       "    <tr>\n",
       "      <th>7395.0</th>\n",
       "      <td>1990-04-01</td>\n",
       "      <td>NaN</td>\n",
       "      <td>202.333333</td>\n",
       "      <td>55.500000</td>\n",
       "      <td>69.60</td>\n",
       "      <td>NaN</td>\n",
       "    </tr>\n",
       "    <tr>\n",
       "      <th>7425.0</th>\n",
       "      <td>1990-05-01</td>\n",
       "      <td>NaN</td>\n",
       "      <td>202.333333</td>\n",
       "      <td>49.666667</td>\n",
       "      <td>63.25</td>\n",
       "      <td>NaN</td>\n",
       "    </tr>\n",
       "  </tbody>\n",
       "</table>\n",
       "</div>"
      ],
      "text/plain": [
       "             date  Maize - Retail  Rice (imported) - Retail  Sorghum - Retail  \\\n",
       "days                                                                            \n",
       "7305.0 1990-01-01             NaN                201.666667         57.750000   \n",
       "7336.0 1990-02-01             NaN                201.666667         54.250000   \n",
       "7364.0 1990-03-01             NaN                201.666667         54.750000   \n",
       "7395.0 1990-04-01             NaN                202.333333         55.500000   \n",
       "7425.0 1990-05-01             NaN                202.333333         49.666667   \n",
       "\n",
       "        Millet - Retail  Beans (niebe) - Retail  \n",
       "days                                             \n",
       "7305.0            61.00                     NaN  \n",
       "7336.0            63.40                     NaN  \n",
       "7364.0            65.20                     NaN  \n",
       "7395.0            69.60                     NaN  \n",
       "7425.0            63.25                     NaN  "
      ]
     },
     "execution_count": 6,
     "metadata": {},
     "output_type": "execute_result"
    }
   ],
   "source": [
    "NE_prices_avg.set_index('days', inplace=True)\n",
    "NE_prices_avg.head()"
   ]
  },
  {
   "cell_type": "code",
   "execution_count": 7,
   "metadata": {},
   "outputs": [
    {
     "data": {
      "text/html": [
       "<div>\n",
       "<style scoped>\n",
       "    .dataframe tbody tr th:only-of-type {\n",
       "        vertical-align: middle;\n",
       "    }\n",
       "\n",
       "    .dataframe tbody tr th {\n",
       "        vertical-align: top;\n",
       "    }\n",
       "\n",
       "    .dataframe thead th {\n",
       "        text-align: right;\n",
       "    }\n",
       "</style>\n",
       "<table border=\"1\" class=\"dataframe\">\n",
       "  <thead>\n",
       "    <tr style=\"text-align: right;\">\n",
       "      <th></th>\n",
       "      <th>date</th>\n",
       "      <th>Maize - Retail</th>\n",
       "      <th>Rice (imported) - Retail</th>\n",
       "      <th>Sorghum - Retail</th>\n",
       "      <th>Millet - Retail</th>\n",
       "      <th>Beans (niebe) - Retail</th>\n",
       "      <th>Millet-Percent</th>\n",
       "    </tr>\n",
       "    <tr>\n",
       "      <th>days</th>\n",
       "      <th></th>\n",
       "      <th></th>\n",
       "      <th></th>\n",
       "      <th></th>\n",
       "      <th></th>\n",
       "      <th></th>\n",
       "      <th></th>\n",
       "    </tr>\n",
       "  </thead>\n",
       "  <tbody>\n",
       "    <tr>\n",
       "      <th>7305.0</th>\n",
       "      <td>1990-01-01</td>\n",
       "      <td>NaN</td>\n",
       "      <td>201.666667</td>\n",
       "      <td>57.750000</td>\n",
       "      <td>61.00</td>\n",
       "      <td>NaN</td>\n",
       "      <td>NaN</td>\n",
       "    </tr>\n",
       "    <tr>\n",
       "      <th>7336.0</th>\n",
       "      <td>1990-02-01</td>\n",
       "      <td>NaN</td>\n",
       "      <td>201.666667</td>\n",
       "      <td>54.250000</td>\n",
       "      <td>63.40</td>\n",
       "      <td>NaN</td>\n",
       "      <td>0.039344</td>\n",
       "    </tr>\n",
       "    <tr>\n",
       "      <th>7364.0</th>\n",
       "      <td>1990-03-01</td>\n",
       "      <td>NaN</td>\n",
       "      <td>201.666667</td>\n",
       "      <td>54.750000</td>\n",
       "      <td>65.20</td>\n",
       "      <td>NaN</td>\n",
       "      <td>0.028391</td>\n",
       "    </tr>\n",
       "    <tr>\n",
       "      <th>7395.0</th>\n",
       "      <td>1990-04-01</td>\n",
       "      <td>NaN</td>\n",
       "      <td>202.333333</td>\n",
       "      <td>55.500000</td>\n",
       "      <td>69.60</td>\n",
       "      <td>NaN</td>\n",
       "      <td>0.067485</td>\n",
       "    </tr>\n",
       "    <tr>\n",
       "      <th>7425.0</th>\n",
       "      <td>1990-05-01</td>\n",
       "      <td>NaN</td>\n",
       "      <td>202.333333</td>\n",
       "      <td>49.666667</td>\n",
       "      <td>63.25</td>\n",
       "      <td>NaN</td>\n",
       "      <td>-0.091236</td>\n",
       "    </tr>\n",
       "  </tbody>\n",
       "</table>\n",
       "</div>"
      ],
      "text/plain": [
       "             date  Maize - Retail  Rice (imported) - Retail  Sorghum - Retail  \\\n",
       "days                                                                            \n",
       "7305.0 1990-01-01             NaN                201.666667         57.750000   \n",
       "7336.0 1990-02-01             NaN                201.666667         54.250000   \n",
       "7364.0 1990-03-01             NaN                201.666667         54.750000   \n",
       "7395.0 1990-04-01             NaN                202.333333         55.500000   \n",
       "7425.0 1990-05-01             NaN                202.333333         49.666667   \n",
       "\n",
       "        Millet - Retail  Beans (niebe) - Retail  Millet-Percent  \n",
       "days                                                             \n",
       "7305.0            61.00                     NaN             NaN  \n",
       "7336.0            63.40                     NaN        0.039344  \n",
       "7364.0            65.20                     NaN        0.028391  \n",
       "7395.0            69.60                     NaN        0.067485  \n",
       "7425.0            63.25                     NaN       -0.091236  "
      ]
     },
     "execution_count": 7,
     "metadata": {},
     "output_type": "execute_result"
    }
   ],
   "source": [
    "NE_prices_avg['Millet-Percent'] = NE_prices_avg['Millet - Retail'].pct_change()\n",
    "NE_prices_avg.head()"
   ]
  },
  {
   "cell_type": "code",
   "execution_count": 59,
   "metadata": {},
   "outputs": [],
   "source": [
    "x1 = list(NE_prices_avg['Millet - Retail'].values)[1:-1]\n",
    "x2 = list(NE_prices_avg['Millet - Retail'].values)[:-2]\n",
    "y = list(NE_prices_avg['Millet - Retail'].values)[2:]\n",
    "\n",
    "X = [list(row) for row in zip(x1, x2)]"
   ]
  },
  {
   "cell_type": "code",
   "execution_count": 57,
   "metadata": {},
   "outputs": [
    {
     "data": {
      "text/plain": [
       "377"
      ]
     },
     "execution_count": 57,
     "metadata": {},
     "output_type": "execute_result"
    }
   ],
   "source": [
    "len(X)"
   ]
  },
  {
   "cell_type": "code",
   "execution_count": 62,
   "metadata": {},
   "outputs": [
    {
     "data": {
      "text/plain": [
       "377"
      ]
     },
     "execution_count": 62,
     "metadata": {},
     "output_type": "execute_result"
    }
   ],
   "source": [
    "len(y)"
   ]
  },
  {
   "cell_type": "code",
   "execution_count": 61,
   "metadata": {},
   "outputs": [
    {
     "ename": "ValueError",
     "evalue": "x and y must be the same size",
     "output_type": "error",
     "traceback": [
      "\u001b[1;31m---------------------------------------------------------------------------\u001b[0m",
      "\u001b[1;31mValueError\u001b[0m                                Traceback (most recent call last)",
      "Cell \u001b[1;32mIn[61], line 1\u001b[0m\n\u001b[1;32m----> 1\u001b[0m plt\u001b[39m.\u001b[39;49mscatter(X, y)\n\u001b[0;32m      2\u001b[0m plt\u001b[39m.\u001b[39mshow()\n",
      "File \u001b[1;32mc:\\Users\\William\\anaconda3\\envs\\Springboard_Capstone_2\\lib\\site-packages\\matplotlib\\pyplot.py:2798\u001b[0m, in \u001b[0;36mscatter\u001b[1;34m(x, y, s, c, marker, cmap, norm, vmin, vmax, alpha, linewidths, edgecolors, plotnonfinite, data, **kwargs)\u001b[0m\n\u001b[0;32m   2793\u001b[0m \u001b[39m@_copy_docstring_and_deprecators\u001b[39m(Axes\u001b[39m.\u001b[39mscatter)\n\u001b[0;32m   2794\u001b[0m \u001b[39mdef\u001b[39;00m \u001b[39mscatter\u001b[39m(\n\u001b[0;32m   2795\u001b[0m         x, y, s\u001b[39m=\u001b[39m\u001b[39mNone\u001b[39;00m, c\u001b[39m=\u001b[39m\u001b[39mNone\u001b[39;00m, marker\u001b[39m=\u001b[39m\u001b[39mNone\u001b[39;00m, cmap\u001b[39m=\u001b[39m\u001b[39mNone\u001b[39;00m, norm\u001b[39m=\u001b[39m\u001b[39mNone\u001b[39;00m,\n\u001b[0;32m   2796\u001b[0m         vmin\u001b[39m=\u001b[39m\u001b[39mNone\u001b[39;00m, vmax\u001b[39m=\u001b[39m\u001b[39mNone\u001b[39;00m, alpha\u001b[39m=\u001b[39m\u001b[39mNone\u001b[39;00m, linewidths\u001b[39m=\u001b[39m\u001b[39mNone\u001b[39;00m, \u001b[39m*\u001b[39m,\n\u001b[0;32m   2797\u001b[0m         edgecolors\u001b[39m=\u001b[39m\u001b[39mNone\u001b[39;00m, plotnonfinite\u001b[39m=\u001b[39m\u001b[39mFalse\u001b[39;00m, data\u001b[39m=\u001b[39m\u001b[39mNone\u001b[39;00m, \u001b[39m*\u001b[39m\u001b[39m*\u001b[39mkwargs):\n\u001b[1;32m-> 2798\u001b[0m     __ret \u001b[39m=\u001b[39m gca()\u001b[39m.\u001b[39mscatter(\n\u001b[0;32m   2799\u001b[0m         x, y, s\u001b[39m=\u001b[39ms, c\u001b[39m=\u001b[39mc, marker\u001b[39m=\u001b[39mmarker, cmap\u001b[39m=\u001b[39mcmap, norm\u001b[39m=\u001b[39mnorm,\n\u001b[0;32m   2800\u001b[0m         vmin\u001b[39m=\u001b[39mvmin, vmax\u001b[39m=\u001b[39mvmax, alpha\u001b[39m=\u001b[39malpha, linewidths\u001b[39m=\u001b[39mlinewidths,\n\u001b[0;32m   2801\u001b[0m         edgecolors\u001b[39m=\u001b[39medgecolors, plotnonfinite\u001b[39m=\u001b[39mplotnonfinite,\n\u001b[0;32m   2802\u001b[0m         \u001b[39m*\u001b[39m\u001b[39m*\u001b[39m({\u001b[39m\"\u001b[39m\u001b[39mdata\u001b[39m\u001b[39m\"\u001b[39m: data} \u001b[39mif\u001b[39;00m data \u001b[39mis\u001b[39;00m \u001b[39mnot\u001b[39;00m \u001b[39mNone\u001b[39;00m \u001b[39melse\u001b[39;00m {}), \u001b[39m*\u001b[39m\u001b[39m*\u001b[39mkwargs)\n\u001b[0;32m   2803\u001b[0m     sci(__ret)\n\u001b[0;32m   2804\u001b[0m     \u001b[39mreturn\u001b[39;00m __ret\n",
      "File \u001b[1;32mc:\\Users\\William\\anaconda3\\envs\\Springboard_Capstone_2\\lib\\site-packages\\matplotlib\\__init__.py:1433\u001b[0m, in \u001b[0;36m_preprocess_data.<locals>.inner\u001b[1;34m(ax, data, *args, **kwargs)\u001b[0m\n\u001b[0;32m   1430\u001b[0m \u001b[39m@functools\u001b[39m\u001b[39m.\u001b[39mwraps(func)\n\u001b[0;32m   1431\u001b[0m \u001b[39mdef\u001b[39;00m \u001b[39minner\u001b[39m(ax, \u001b[39m*\u001b[39margs, data\u001b[39m=\u001b[39m\u001b[39mNone\u001b[39;00m, \u001b[39m*\u001b[39m\u001b[39m*\u001b[39mkwargs):\n\u001b[0;32m   1432\u001b[0m     \u001b[39mif\u001b[39;00m data \u001b[39mis\u001b[39;00m \u001b[39mNone\u001b[39;00m:\n\u001b[1;32m-> 1433\u001b[0m         \u001b[39mreturn\u001b[39;00m func(ax, \u001b[39m*\u001b[39m\u001b[39mmap\u001b[39m(sanitize_sequence, args), \u001b[39m*\u001b[39m\u001b[39m*\u001b[39mkwargs)\n\u001b[0;32m   1435\u001b[0m     bound \u001b[39m=\u001b[39m new_sig\u001b[39m.\u001b[39mbind(ax, \u001b[39m*\u001b[39margs, \u001b[39m*\u001b[39m\u001b[39m*\u001b[39mkwargs)\n\u001b[0;32m   1436\u001b[0m     auto_label \u001b[39m=\u001b[39m (bound\u001b[39m.\u001b[39marguments\u001b[39m.\u001b[39mget(label_namer)\n\u001b[0;32m   1437\u001b[0m                   \u001b[39mor\u001b[39;00m bound\u001b[39m.\u001b[39mkwargs\u001b[39m.\u001b[39mget(label_namer))\n",
      "File \u001b[1;32mc:\\Users\\William\\anaconda3\\envs\\Springboard_Capstone_2\\lib\\site-packages\\matplotlib\\axes\\_axes.py:4526\u001b[0m, in \u001b[0;36mAxes.scatter\u001b[1;34m(self, x, y, s, c, marker, cmap, norm, vmin, vmax, alpha, linewidths, edgecolors, plotnonfinite, **kwargs)\u001b[0m\n\u001b[0;32m   4524\u001b[0m y \u001b[39m=\u001b[39m np\u001b[39m.\u001b[39mma\u001b[39m.\u001b[39mravel(y)\n\u001b[0;32m   4525\u001b[0m \u001b[39mif\u001b[39;00m x\u001b[39m.\u001b[39msize \u001b[39m!=\u001b[39m y\u001b[39m.\u001b[39msize:\n\u001b[1;32m-> 4526\u001b[0m     \u001b[39mraise\u001b[39;00m \u001b[39mValueError\u001b[39;00m(\u001b[39m\"\u001b[39m\u001b[39mx and y must be the same size\u001b[39m\u001b[39m\"\u001b[39m)\n\u001b[0;32m   4528\u001b[0m \u001b[39mif\u001b[39;00m s \u001b[39mis\u001b[39;00m \u001b[39mNone\u001b[39;00m:\n\u001b[0;32m   4529\u001b[0m     s \u001b[39m=\u001b[39m (\u001b[39m20\u001b[39m \u001b[39mif\u001b[39;00m mpl\u001b[39m.\u001b[39mrcParams[\u001b[39m'\u001b[39m\u001b[39m_internal.classic_mode\u001b[39m\u001b[39m'\u001b[39m] \u001b[39melse\u001b[39;00m\n\u001b[0;32m   4530\u001b[0m          mpl\u001b[39m.\u001b[39mrcParams[\u001b[39m'\u001b[39m\u001b[39mlines.markersize\u001b[39m\u001b[39m'\u001b[39m] \u001b[39m*\u001b[39m\u001b[39m*\u001b[39m \u001b[39m2.0\u001b[39m)\n",
      "\u001b[1;31mValueError\u001b[0m: x and y must be the same size"
     ]
    },
    {
     "data": {
      "image/png": "[encoded data removed]",
      "text/plain": [
       "<Figure size 640x480 with 1 Axes>"
      ]
     },
     "metadata": {},
     "output_type": "display_data"
    }
   ],
   "source": [
    "plt.scatter(X, y)\n",
    "plt.show()"
   ]
  },
  {
   "cell_type": "code",
   "execution_count": 63,
   "metadata": {},
   "outputs": [],
   "source": [
    "LR = LinearRegression()\n",
    "\n",
    "LR.fit(X, y)\n",
    "\n",
    "y_pred = LR.predict(X)"
   ]
  },
  {
   "cell_type": "code",
   "execution_count": 64,
   "metadata": {},
   "outputs": [
    {
     "data": {
      "text/plain": [
       "0.9572540775597417"
      ]
     },
     "execution_count": 64,
     "metadata": {},
     "output_type": "execute_result"
    }
   ],
   "source": [
    "LR.score(X, y)"
   ]
  },
  {
   "cell_type": "code",
   "execution_count": 65,
   "metadata": {},
   "outputs": [],
   "source": [
    "def rmse(y, y_pred):\n",
    "    return np.sqrt(np.mean((y_pred - y)**2))\n",
    "    "
   ]
  },
  {
   "cell_type": "code",
   "execution_count": 69,
   "metadata": {},
   "outputs": [
    {
     "data": {
      "text/plain": [
       "13.558522394893785"
      ]
     },
     "execution_count": 69,
     "metadata": {},
     "output_type": "execute_result"
    },
    {
     "ename": "",
     "evalue": "",
     "output_type": "error",
     "traceback": [
      "\u001b[1;31mThe Kernel crashed while executing code in the the current cell or a previous cell. Please review the code in the cell(s) to identify a possible cause of the failure. Click <a href='https://aka.ms/vscodeJupyterKernelCrash'>here</a> for more info. View Jupyter <a href='command:jupyter.viewOutput'>log</a> for further details."
     ]
    }
   ],
   "source": [
    "rmse(y, y_pred) "
   ]
  },
  {
   "cell_type": "code",
   "execution_count": 67,
   "metadata": {},
   "outputs": [
    {
     "data": {
      "text/plain": [
       "array([ 1.40409262, -0.44131317])"
      ]
     },
     "execution_count": 67,
     "metadata": {},
     "output_type": "execute_result"
    }
   ],
   "source": [
    "LR.coef_"
   ]
  },
  {
   "cell_type": "code",
   "execution_count": 68,
   "metadata": {},
   "outputs": [
    {
     "data": {
      "text/plain": [
       "6.456230500830912"
      ]
     },
     "execution_count": 68,
     "metadata": {},
     "output_type": "execute_result"
    }
   ],
   "source": [
    "LR.intercept_"
   ]
  },
  {
   "cell_type": "code",
   "execution_count": 26,
   "metadata": {},
   "outputs": [],
   "source": [
    "train = NE_prices_avg[NE_prices_avg['date'].dt.strftime('%Y') < '2020']\n",
    "test = NE_prices_avg[NE_prices_avg['date'].dt.strftime('%Y') >= '2020']"
   ]
  },
  {
   "cell_type": "code",
   "execution_count": 27,
   "metadata": {},
   "outputs": [],
   "source": [
    "X_train, X_test = train.index, test.index\n",
    "y_train, y_test = train['Millet - Retail'], test['Millet - Retail']"
   ]
  },
  {
   "cell_type": "code",
   "execution_count": 30,
   "metadata": {},
   "outputs": [
    {
     "ename": "AttributeError",
     "evalue": "'Float64Index' object has no attribute 'reshape'",
     "output_type": "error",
     "traceback": [
      "\u001b[1;31m---------------------------------------------------------------------------\u001b[0m",
      "\u001b[1;31mAttributeError\u001b[0m                            Traceback (most recent call last)",
      "Cell \u001b[1;32mIn[30], line 1\u001b[0m\n\u001b[1;32m----> 1\u001b[0m X_train, X_test \u001b[39m=\u001b[39m X_train\u001b[39m.\u001b[39;49mreshape(\u001b[39m-\u001b[39m\u001b[39m1\u001b[39m, \u001b[39m1\u001b[39m), X\u001b[39m-\u001b[39mtest\u001b[39m.\u001b[39mreshape(\u001b[39m-\u001b[39m\u001b[39m1\u001b[39m, \u001b[39m1\u001b[39m)\n",
      "\u001b[1;31mAttributeError\u001b[0m: 'Float64Index' object has no attribute 'reshape'"
     ]
    }
   ],
   "source": [
    "X_train, X_test = X_train.reshape(-1, 1), X-test.reshape(-1, 1)"
   ]
  },
  {
   "cell_type": "code",
   "execution_count": 28,
   "metadata": {},
   "outputs": [
    {
     "ename": "AttributeError",
     "evalue": "'Float64Index' object has no attribute 'head'",
     "output_type": "error",
     "traceback": [
      "\u001b[1;31m---------------------------------------------------------------------------\u001b[0m",
      "\u001b[1;31mAttributeError\u001b[0m                            Traceback (most recent call last)",
      "Cell \u001b[1;32mIn[28], line 1\u001b[0m\n\u001b[1;32m----> 1\u001b[0m X_test\u001b[39m.\u001b[39;49mhead()\n",
      "\u001b[1;31mAttributeError\u001b[0m: 'Float64Index' object has no attribute 'head'"
     ]
    }
   ],
   "source": [
    "X_test.head()"
   ]
  },
  {
   "cell_type": "code",
   "execution_count": 22,
   "metadata": {},
   "outputs": [
    {
     "data": {
      "text/plain": [
       "<AxesSubplot: xlabel='days'>"
      ]
     },
     "execution_count": 22,
     "metadata": {},
     "output_type": "execute_result"
    },
    {
     "data": {
      "image/png": "[encoded data removed]",
      "text/plain": [
       "<Figure size 640x480 with 1 Axes>"
      ]
     },
     "metadata": {},
     "output_type": "display_data"
    }
   ],
   "source": [
    "y_train.plot()"
   ]
  },
  {
   "cell_type": "code",
   "execution_count": 29,
   "metadata": {},
   "outputs": [
    {
     "ename": "ValueError",
     "evalue": "Expected 2D array, got 1D array instead:\narray=[ 7305.  7336.  7364.  7395.  7425.  7456.  7486.  7517.  7548.  7578.\n  7609.  7639.  7670.  7701.  7729.  7760.  7790.  7821.  7851.  7882.\n  7913.  7943.  7974.  8004.  8035.  8066.  8095.  8126.  8156.  8187.\n  8217.  8248.  8279.  8309.  8340.  8370.  8401.  8432.  8460.  8491.\n  8521.  8552.  8582.  8613.  8644.  8674.  8705.  8735.  8766.  8797.\n  8825.  8856.  8886.  8917.  8947.  8978.  9009.  9039.  9070.  9100.\n  9131.  9162.  9190.  9221.  9251.  9282.  9312.  9343.  9374.  9404.\n  9435.  9465.  9496.  9527.  9556.  9587.  9617.  9648.  9678.  9709.\n  9740.  9770.  9801.  9831.  9862.  9893.  9921.  9952.  9982. 10013.\n 10043. 10074. 10105. 10135. 10166. 10196. 10227. 10258. 10286. 10317.\n 10347. 10378. 10408. 10439. 10470. 10500. 10531. 10561. 10592. 10623.\n 10651. 10682. 10712. 10743. 10773. 10804. 10835. 10865. 10896. 10926.\n 10957. 10988. 11017. 11048. 11078. 11109. 11139. 11170. 11201. 11231.\n 11262. 11292. 11323. 11354. 11382. 11413. 11443. 11474. 11504. 11535.\n 11566. 11596. 11627. 11657. 11688. 11719. 11747. 11778. 11808. 11839.\n 11869. 11900. 11931. 11961. 11992. 12022. 12053. 12084. 12112. 12143.\n 12173. 12204. 12234. 12265. 12296. 12326. 12357. 12387. 12418. 12449.\n 12478. 12509. 12539. 12570. 12600. 12631. 12662. 12692. 12723. 12753.\n 12784. 12815. 12843. 12874. 12904. 12935. 12965. 12996. 13027. 13057.\n 13088. 13118. 13149. 13180. 13208. 13239. 13269. 13300. 13330. 13361.\n 13392. 13422. 13453. 13483. 13514. 13545. 13573. 13604. 13634. 13665.\n 13695. 13726. 13757. 13787. 13818. 13848. 13879. 13910. 13939. 13970.\n 14000. 14031. 14061. 14092. 14123. 14153. 14184. 14214. 14245. 14276.\n 14304. 14335. 14365. 14396. 14426. 14457. 14488. 14518. 14549. 14579.\n 14610. 14641. 14669. 14700. 14730. 14761. 14791. 14822. 14853. 14883.\n 14914. 14944. 14975. 15006. 15034. 15065. 15095. 15126. 15156. 15187.\n 15218. 15248. 15279. 15309. 15340. 15371. 15400. 15431. 15461. 15492.\n 15522. 15553. 15584. 15614. 15645. 15675. 15706. 15737. 15765. 15796.\n 15826. 15857. 15887. 15918. 15949. 15979. 16010. 16040. 16071. 16102.\n 16130. 16161. 16191. 16222. 16252. 16283. 16314. 16344. 16375. 16405.\n 16436. 16467. 16495. 16526. 16556. 16587. 16617. 16648. 16679. 16709.\n 16740. 16770. 16801. 16832. 16861. 16892. 16922. 16953. 16983. 17014.\n 17045. 17075. 17106. 17136. 17167. 17198. 17226. 17257. 17287. 17318.\n 17348. 17379. 17410. 17440. 17471. 17501. 17532. 17563. 17591. 17622.\n 17652. 17683. 17713. 17744. 17775. 17805. 17836. 17866. 17897. 17928.\n 17956. 17987. 18017. 18048. 18078. 18109. 18140. 18170. 18201. 18231.].\nReshape your data either using array.reshape(-1, 1) if your data has a single feature or array.reshape(1, -1) if it contains a single sample.",
     "output_type": "error",
     "traceback": [
      "\u001b[1;31m---------------------------------------------------------------------------\u001b[0m",
      "\u001b[1;31mValueError\u001b[0m                                Traceback (most recent call last)",
      "Cell \u001b[1;32mIn[29], line 3\u001b[0m\n\u001b[0;32m      1\u001b[0m LR \u001b[39m=\u001b[39m LinearRegression()\n\u001b[1;32m----> 3\u001b[0m LR\u001b[39m.\u001b[39;49mfit(X_train, y_train)\n\u001b[0;32m      5\u001b[0m train_predict \u001b[39m=\u001b[39m LR\u001b[39m.\u001b[39mpredict(X_train)\n\u001b[0;32m      6\u001b[0m test_predict \u001b[39m=\u001b[39m LR\u001b[39m.\u001b[39mpredict(X_test)\n",
      "File \u001b[1;32mc:\\Users\\William\\anaconda3\\envs\\Springboard_Capstone_2\\lib\\site-packages\\sklearn\\linear_model\\_base.py:648\u001b[0m, in \u001b[0;36mLinearRegression.fit\u001b[1;34m(self, X, y, sample_weight)\u001b[0m\n\u001b[0;32m    644\u001b[0m n_jobs_ \u001b[39m=\u001b[39m \u001b[39mself\u001b[39m\u001b[39m.\u001b[39mn_jobs\n\u001b[0;32m    646\u001b[0m accept_sparse \u001b[39m=\u001b[39m \u001b[39mFalse\u001b[39;00m \u001b[39mif\u001b[39;00m \u001b[39mself\u001b[39m\u001b[39m.\u001b[39mpositive \u001b[39melse\u001b[39;00m [\u001b[39m\"\u001b[39m\u001b[39mcsr\u001b[39m\u001b[39m\"\u001b[39m, \u001b[39m\"\u001b[39m\u001b[39mcsc\u001b[39m\u001b[39m\"\u001b[39m, \u001b[39m\"\u001b[39m\u001b[39mcoo\u001b[39m\u001b[39m\"\u001b[39m]\n\u001b[1;32m--> 648\u001b[0m X, y \u001b[39m=\u001b[39m \u001b[39mself\u001b[39;49m\u001b[39m.\u001b[39;49m_validate_data(\n\u001b[0;32m    649\u001b[0m     X, y, accept_sparse\u001b[39m=\u001b[39;49maccept_sparse, y_numeric\u001b[39m=\u001b[39;49m\u001b[39mTrue\u001b[39;49;00m, multi_output\u001b[39m=\u001b[39;49m\u001b[39mTrue\u001b[39;49;00m\n\u001b[0;32m    650\u001b[0m )\n\u001b[0;32m    652\u001b[0m sample_weight \u001b[39m=\u001b[39m _check_sample_weight(\n\u001b[0;32m    653\u001b[0m     sample_weight, X, dtype\u001b[39m=\u001b[39mX\u001b[39m.\u001b[39mdtype, only_non_negative\u001b[39m=\u001b[39m\u001b[39mTrue\u001b[39;00m\n\u001b[0;32m    654\u001b[0m )\n\u001b[0;32m    656\u001b[0m X, y, X_offset, y_offset, X_scale \u001b[39m=\u001b[39m _preprocess_data(\n\u001b[0;32m    657\u001b[0m     X,\n\u001b[0;32m    658\u001b[0m     y,\n\u001b[1;32m   (...)\u001b[0m\n\u001b[0;32m    661\u001b[0m     sample_weight\u001b[39m=\u001b[39msample_weight,\n\u001b[0;32m    662\u001b[0m )\n",
      "File \u001b[1;32mc:\\Users\\William\\anaconda3\\envs\\Springboard_Capstone_2\\lib\\site-packages\\sklearn\\base.py:565\u001b[0m, in \u001b[0;36mBaseEstimator._validate_data\u001b[1;34m(self, X, y, reset, validate_separately, **check_params)\u001b[0m\n\u001b[0;32m    563\u001b[0m         y \u001b[39m=\u001b[39m check_array(y, input_name\u001b[39m=\u001b[39m\u001b[39m\"\u001b[39m\u001b[39my\u001b[39m\u001b[39m\"\u001b[39m, \u001b[39m*\u001b[39m\u001b[39m*\u001b[39mcheck_y_params)\n\u001b[0;32m    564\u001b[0m     \u001b[39melse\u001b[39;00m:\n\u001b[1;32m--> 565\u001b[0m         X, y \u001b[39m=\u001b[39m check_X_y(X, y, \u001b[39m*\u001b[39m\u001b[39m*\u001b[39mcheck_params)\n\u001b[0;32m    566\u001b[0m     out \u001b[39m=\u001b[39m X, y\n\u001b[0;32m    568\u001b[0m \u001b[39mif\u001b[39;00m \u001b[39mnot\u001b[39;00m no_val_X \u001b[39mand\u001b[39;00m check_params\u001b[39m.\u001b[39mget(\u001b[39m\"\u001b[39m\u001b[39mensure_2d\u001b[39m\u001b[39m\"\u001b[39m, \u001b[39mTrue\u001b[39;00m):\n",
      "File \u001b[1;32mc:\\Users\\William\\anaconda3\\envs\\Springboard_Capstone_2\\lib\\site-packages\\sklearn\\utils\\validation.py:1106\u001b[0m, in \u001b[0;36mcheck_X_y\u001b[1;34m(X, y, accept_sparse, accept_large_sparse, dtype, order, copy, force_all_finite, ensure_2d, allow_nd, multi_output, ensure_min_samples, ensure_min_features, y_numeric, estimator)\u001b[0m\n\u001b[0;32m   1101\u001b[0m         estimator_name \u001b[39m=\u001b[39m _check_estimator_name(estimator)\n\u001b[0;32m   1102\u001b[0m     \u001b[39mraise\u001b[39;00m \u001b[39mValueError\u001b[39;00m(\n\u001b[0;32m   1103\u001b[0m         \u001b[39mf\u001b[39m\u001b[39m\"\u001b[39m\u001b[39m{\u001b[39;00mestimator_name\u001b[39m}\u001b[39;00m\u001b[39m requires y to be passed, but the target y is None\u001b[39m\u001b[39m\"\u001b[39m\n\u001b[0;32m   1104\u001b[0m     )\n\u001b[1;32m-> 1106\u001b[0m X \u001b[39m=\u001b[39m check_array(\n\u001b[0;32m   1107\u001b[0m     X,\n\u001b[0;32m   1108\u001b[0m     accept_sparse\u001b[39m=\u001b[39;49maccept_sparse,\n\u001b[0;32m   1109\u001b[0m     accept_large_sparse\u001b[39m=\u001b[39;49maccept_large_sparse,\n\u001b[0;32m   1110\u001b[0m     dtype\u001b[39m=\u001b[39;49mdtype,\n\u001b[0;32m   1111\u001b[0m     order\u001b[39m=\u001b[39;49morder,\n\u001b[0;32m   1112\u001b[0m     copy\u001b[39m=\u001b[39;49mcopy,\n\u001b[0;32m   1113\u001b[0m     force_all_finite\u001b[39m=\u001b[39;49mforce_all_finite,\n\u001b[0;32m   1114\u001b[0m     ensure_2d\u001b[39m=\u001b[39;49mensure_2d,\n\u001b[0;32m   1115\u001b[0m     allow_nd\u001b[39m=\u001b[39;49mallow_nd,\n\u001b[0;32m   1116\u001b[0m     ensure_min_samples\u001b[39m=\u001b[39;49mensure_min_samples,\n\u001b[0;32m   1117\u001b[0m     ensure_min_features\u001b[39m=\u001b[39;49mensure_min_features,\n\u001b[0;32m   1118\u001b[0m     estimator\u001b[39m=\u001b[39;49mestimator,\n\u001b[0;32m   1119\u001b[0m     input_name\u001b[39m=\u001b[39;49m\u001b[39m\"\u001b[39;49m\u001b[39mX\u001b[39;49m\u001b[39m\"\u001b[39;49m,\n\u001b[0;32m   1120\u001b[0m )\n\u001b[0;32m   1122\u001b[0m y \u001b[39m=\u001b[39m _check_y(y, multi_output\u001b[39m=\u001b[39mmulti_output, y_numeric\u001b[39m=\u001b[39my_numeric, estimator\u001b[39m=\u001b[39mestimator)\n\u001b[0;32m   1124\u001b[0m check_consistent_length(X, y)\n",
      "File \u001b[1;32mc:\\Users\\William\\anaconda3\\envs\\Springboard_Capstone_2\\lib\\site-packages\\sklearn\\utils\\validation.py:902\u001b[0m, in \u001b[0;36mcheck_array\u001b[1;34m(array, accept_sparse, accept_large_sparse, dtype, order, copy, force_all_finite, ensure_2d, allow_nd, ensure_min_samples, ensure_min_features, estimator, input_name)\u001b[0m\n\u001b[0;32m    900\u001b[0m     \u001b[39m# If input is 1D raise error\u001b[39;00m\n\u001b[0;32m    901\u001b[0m     \u001b[39mif\u001b[39;00m array\u001b[39m.\u001b[39mndim \u001b[39m==\u001b[39m \u001b[39m1\u001b[39m:\n\u001b[1;32m--> 902\u001b[0m         \u001b[39mraise\u001b[39;00m \u001b[39mValueError\u001b[39;00m(\n\u001b[0;32m    903\u001b[0m             \u001b[39m\"\u001b[39m\u001b[39mExpected 2D array, got 1D array instead:\u001b[39m\u001b[39m\\n\u001b[39;00m\u001b[39marray=\u001b[39m\u001b[39m{}\u001b[39;00m\u001b[39m.\u001b[39m\u001b[39m\\n\u001b[39;00m\u001b[39m\"\u001b[39m\n\u001b[0;32m    904\u001b[0m             \u001b[39m\"\u001b[39m\u001b[39mReshape your data either using array.reshape(-1, 1) if \u001b[39m\u001b[39m\"\u001b[39m\n\u001b[0;32m    905\u001b[0m             \u001b[39m\"\u001b[39m\u001b[39myour data has a single feature or array.reshape(1, -1) \u001b[39m\u001b[39m\"\u001b[39m\n\u001b[0;32m    906\u001b[0m             \u001b[39m\"\u001b[39m\u001b[39mif it contains a single sample.\u001b[39m\u001b[39m\"\u001b[39m\u001b[39m.\u001b[39mformat(array)\n\u001b[0;32m    907\u001b[0m         )\n\u001b[0;32m    909\u001b[0m \u001b[39mif\u001b[39;00m dtype_numeric \u001b[39mand\u001b[39;00m array\u001b[39m.\u001b[39mdtype\u001b[39m.\u001b[39mkind \u001b[39min\u001b[39;00m \u001b[39m\"\u001b[39m\u001b[39mUSV\u001b[39m\u001b[39m\"\u001b[39m:\n\u001b[0;32m    910\u001b[0m     \u001b[39mraise\u001b[39;00m \u001b[39mValueError\u001b[39;00m(\n\u001b[0;32m    911\u001b[0m         \u001b[39m\"\u001b[39m\u001b[39mdtype=\u001b[39m\u001b[39m'\u001b[39m\u001b[39mnumeric\u001b[39m\u001b[39m'\u001b[39m\u001b[39m is not compatible with arrays of bytes/strings.\u001b[39m\u001b[39m\"\u001b[39m\n\u001b[0;32m    912\u001b[0m         \u001b[39m\"\u001b[39m\u001b[39mConvert your data to numeric values explicitly instead.\u001b[39m\u001b[39m\"\u001b[39m\n\u001b[0;32m    913\u001b[0m     )\n",
      "\u001b[1;31mValueError\u001b[0m: Expected 2D array, got 1D array instead:\narray=[ 7305.  7336.  7364.  7395.  7425.  7456.  7486.  7517.  7548.  7578.\n  7609.  7639.  7670.  7701.  7729.  7760.  7790.  7821.  7851.  7882.\n  7913.  7943.  7974.  8004.  8035.  8066.  8095.  8126.  8156.  8187.\n  8217.  8248.  8279.  8309.  8340.  8370.  8401.  8432.  8460.  8491.\n  8521.  8552.  8582.  8613.  8644.  8674.  8705.  8735.  8766.  8797.\n  8825.  8856.  8886.  8917.  8947.  8978.  9009.  9039.  9070.  9100.\n  9131.  9162.  9190.  9221.  9251.  9282.  9312.  9343.  9374.  9404.\n  9435.  9465.  9496.  9527.  9556.  9587.  9617.  9648.  9678.  9709.\n  9740.  9770.  9801.  9831.  9862.  9893.  9921.  9952.  9982. 10013.\n 10043. 10074. 10105. 10135. 10166. 10196. 10227. 10258. 10286. 10317.\n 10347. 10378. 10408. 10439. 10470. 10500. 10531. 10561. 10592. 10623.\n 10651. 10682. 10712. 10743. 10773. 10804. 10835. 10865. 10896. 10926.\n 10957. 10988. 11017. 11048. 11078. 11109. 11139. 11170. 11201. 11231.\n 11262. 11292. 11323. 11354. 11382. 11413. 11443. 11474. 11504. 11535.\n 11566. 11596. 11627. 11657. 11688. 11719. 11747. 11778. 11808. 11839.\n 11869. 11900. 11931. 11961. 11992. 12022. 12053. 12084. 12112. 12143.\n 12173. 12204. 12234. 12265. 12296. 12326. 12357. 12387. 12418. 12449.\n 12478. 12509. 12539. 12570. 12600. 12631. 12662. 12692. 12723. 12753.\n 12784. 12815. 12843. 12874. 12904. 12935. 12965. 12996. 13027. 13057.\n 13088. 13118. 13149. 13180. 13208. 13239. 13269. 13300. 13330. 13361.\n 13392. 13422. 13453. 13483. 13514. 13545. 13573. 13604. 13634. 13665.\n 13695. 13726. 13757. 13787. 13818. 13848. 13879. 13910. 13939. 13970.\n 14000. 14031. 14061. 14092. 14123. 14153. 14184. 14214. 14245. 14276.\n 14304. 14335. 14365. 14396. 14426. 14457. 14488. 14518. 14549. 14579.\n 14610. 14641. 14669. 14700. 14730. 14761. 14791. 14822. 14853. 14883.\n 14914. 14944. 14975. 15006. 15034. 15065. 15095. 15126. 15156. 15187.\n 15218. 15248. 15279. 15309. 15340. 15371. 15400. 15431. 15461. 15492.\n 15522. 15553. 15584. 15614. 15645. 15675. 15706. 15737. 15765. 15796.\n 15826. 15857. 15887. 15918. 15949. 15979. 16010. 16040. 16071. 16102.\n 16130. 16161. 16191. 16222. 16252. 16283. 16314. 16344. 16375. 16405.\n 16436. 16467. 16495. 16526. 16556. 16587. 16617. 16648. 16679. 16709.\n 16740. 16770. 16801. 16832. 16861. 16892. 16922. 16953. 16983. 17014.\n 17045. 17075. 17106. 17136. 17167. 17198. 17226. 17257. 17287. 17318.\n 17348. 17379. 17410. 17440. 17471. 17501. 17532. 17563. 17591. 17622.\n 17652. 17683. 17713. 17744. 17775. 17805. 17836. 17866. 17897. 17928.\n 17956. 17987. 18017. 18048. 18078. 18109. 18140. 18170. 18201. 18231.].\nReshape your data either using array.reshape(-1, 1) if your data has a single feature or array.reshape(1, -1) if it contains a single sample."
     ]
    }
   ],
   "source": [
    "LR = LinearRegression()\n",
    "\n",
    "LR.fit(X_train, y_train)\n",
    "\n",
    "train_predict = LR.predict(X_train)\n",
    "test_predict = LR.predict(X_test)"
   ]
  }
 ],
 "metadata": {
  "kernelspec": {
   "display_name": "Springboard_Capstone_2",
   "language": "python",
   "name": "python3"
  },
  "language_info": {
   "codemirror_mode": {
    "name": "ipython",
    "version": 3
   },
   "file_extension": ".py",
   "mimetype": "text/x-python",
   "name": "python",
   "nbconvert_exporter": "python",
   "pygments_lexer": "ipython3",
   "version": "3.10.8"
  },
  "orig_nbformat": 4,
  "vscode": {
   "interpreter": {
    "hash": "36cfde58b0bf1809812f8715bda71fdb56ed2c6463f7e1553b7e017deb79c196"
   }
  }
 },
 "nbformat": 4,
 "nbformat_minor": 2
}
